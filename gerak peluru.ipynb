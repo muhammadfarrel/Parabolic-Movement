{
 "cells": [
  {
   "cell_type": "code",
   "execution_count": 2,
   "metadata": {},
   "outputs": [],
   "source": [
    "import math\n",
    "import matplotlib.pyplot as plt\n",
    "import numpy as np"
   ]
  },
  {
   "cell_type": "markdown",
   "metadata": {},
   "source": [
    "<h2>RUMUS ANALITIK<h2>"
   ]
  },
  {
   "cell_type": "code",
   "execution_count": 1,
   "metadata": {},
   "outputs": [],
   "source": [
    "###Misalkan v(o) = 20, O = 60deg, t = 0.01"
   ]
  },
  {
   "cell_type": "code",
   "execution_count": 3,
   "metadata": {},
   "outputs": [],
   "source": [
    "def analitik_peluru(v,o,t):\n",
    "    x = v * math.cos((o * math.pi)/180) * t\n",
    "    y = (0.5 * -9.8 * t**2) + (v * math.sin((o * math.pi)/180) * t)\n",
    "    t_total = (2 * v * math.sin((o * math.pi)/180))/9.8\n",
    "    x_total = v * math.cos((o * math.pi)/180) * t_total\n",
    "    y_total = (v**2 * math.sin((o * math.pi)/180)**2) / 19.6\n",
    "    return x,y,t_total,x_total,y_total"
   ]
  },
  {
   "cell_type": "code",
   "execution_count": 4,
   "metadata": {},
   "outputs": [
    {
     "name": "stdout",
     "output_type": "stream",
     "text": [
      "nilai t(total) adalah 3.534797566467096\n",
      "nilai x total adalah 35.34797566467097\n",
      "nilai y total adalah 15.306122448979588\n"
     ]
    }
   ],
   "source": [
    "x, y, t_total, x_total, y_total= analitik_peluru(20,60,0.01)\n",
    "print(\"nilai t(total) adalah\", t_total)\n",
    "print(\"nilai x total adalah\", x_total)\n",
    "print(\"nilai y total adalah\", y_total)"
   ]
  },
  {
   "cell_type": "code",
   "execution_count": 2,
   "metadata": {},
   "outputs": [],
   "source": [
    "v = 20\n",
    "o = 60\n",
    "t = 3.53"
   ]
  },
  {
   "cell_type": "code",
   "execution_count": 53,
   "metadata": {},
   "outputs": [],
   "source": [
    "t_arr = np.arange(0, t, 0.01)\n",
    "x_arr = v * math.cos((o * math.pi)/180) * t_arr\n",
    "y_arr = (0.5 * -9.8 * t_arr**2) + (v * math.sin((o * math.pi)/180) * t_arr)"
   ]
  },
  {
   "cell_type": "code",
   "execution_count": 54,
   "metadata": {},
   "outputs": [
    {
     "data": {
      "text/plain": [
       "[<matplotlib.lines.Line2D at 0x119609310>]"
      ]
     },
     "execution_count": 54,
     "metadata": {},
     "output_type": "execute_result"
    },
    {
     "data": {
      "image/png": "[encoded data removed]",
      "text/plain": [
       "<Figure size 432x288 with 1 Axes>"
      ]
     },
     "metadata": {
      "needs_background": "light"
     },
     "output_type": "display_data"
    }
   ],
   "source": [
    "plt.plot(x_arr,y_arr)"
   ]
  },
  {
   "cell_type": "markdown",
   "metadata": {},
   "source": [
    "<h2>RUMUS NUMERIK<h2>"
   ]
  },
  {
   "cell_type": "code",
   "execution_count": 11,
   "metadata": {},
   "outputs": [],
   "source": [
    "def numerik(v,deg,dt):\n",
    "    grvty = -9.8\n",
    "    temp = 0\n",
    "    x_temp = []\n",
    "    y_temp = []\n",
    "    vx = v * math.cos((deg * math.pi)/180) \n",
    "    vy = v * math.sin((deg * math.pi)/180)\n",
    "    vy = vy + (grvty * dt)\n",
    "    x = 0\n",
    "    x = x + (vx * dt)\n",
    "    y = 0\n",
    "    y = y + (vy * dt)\n",
    "    x_temp.append(x)\n",
    "    y_temp.append(y)\n",
    "    time = dt\n",
    "    while 1:\n",
    "        x = x + (vx * dt) \n",
    "        vy = vy + (grvty * dt)\n",
    "        if (y + (vy * dt)) < 0:\n",
    "            break\n",
    "        else:\n",
    "            y = y + (vy * dt)\n",
    "        x_temp.append(x)\n",
    "        y_temp.append(y)\n",
    "        if(y > temp):\n",
    "            temp = y\n",
    "        time = time + dt\n",
    "    return x_temp, y_temp, temp, time"
   ]
  },
  {
   "cell_type": "markdown",
   "metadata": {},
   "source": [
    "<H2>PENGGABUNGAN NUMERIK DAN ANALITIK<h2>"
   ]
  },
  {
   "cell_type": "code",
   "execution_count": 55,
   "metadata": {},
   "outputs": [
    {
     "name": "stdout",
     "output_type": "stream",
     "text": [
      "maks y =  15.219614213212187\n",
      "maks time =  3.519999999999969\n"
     ]
    },
    {
     "data": {
      "text/plain": [
       "Text(0, 0.5, 'y')"
      ]
     },
     "execution_count": 55,
     "metadata": {},
     "output_type": "execute_result"
    },
    {
     "data": {
      "image/png": "[encoded data removed]",
      "text/plain": [
       "<Figure size 432x288 with 1 Axes>"
      ]
     },
     "metadata": {
      "needs_background": "light"
     },
     "output_type": "display_data"
    }
   ],
   "source": [
    "x, y, y_maks, time_maks= numerik(20, 60, 0.01)\n",
    "print(\"maks y = \",y_maks)\n",
    "print(\"maks time = \", time_maks)\n",
    "plt.plot(x, y, color = 'red', label = 'numerik')\n",
    "plt.plot(x_arr,y_arr, color = 'blue', label = 'analitik')\n",
    "plt.legend(loc = \"upper right\")\n",
    "plt.xlabel(\"x\")\n",
    "plt.ylabel(\"y\")"
   ]
  },
  {
   "cell_type": "code",
   "execution_count": null,
   "metadata": {},
   "outputs": [],
   "source": []
  }
 ],
 "metadata": {
  "kernelspec": {
   "display_name": "Python 3",
   "language": "python",
   "name": "python3"
  },
  "language_info": {
   "codemirror_mode": {
    "name": "ipython",
    "version": 3
   },
   "file_extension": ".py",
   "mimetype": "text/x-python",
   "name": "python",
   "nbconvert_exporter": "python",
   "pygments_lexer": "ipython3",
   "version": "3.7.4"
  }
 },
 "nbformat": 4,
 "nbformat_minor": 4
}
